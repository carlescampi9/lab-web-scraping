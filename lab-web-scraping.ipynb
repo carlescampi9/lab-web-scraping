{
 "cells": [
  {
   "cell_type": "markdown",
   "id": "7e7a1ab8-2599-417d-9a65-25ef07f3a786",
   "metadata": {
    "id": "7e7a1ab8-2599-417d-9a65-25ef07f3a786"
   },
   "source": [
    "# Lab | Web Scraping"
   ]
  },
  {
   "cell_type": "markdown",
   "id": "ce8882fc-4815-4567-92fa-b4816358ba7d",
   "metadata": {
    "id": "ce8882fc-4815-4567-92fa-b4816358ba7d"
   },
   "source": [
    "Welcome to the \"Books to Scrape\" Web Scraping Adventure Lab!\n",
    "\n",
    "**Objective**\n",
    "\n",
    "In this lab, we will embark on a mission to unearth valuable insights from the data available on Books to Scrape, an online platform showcasing a wide variety of books. As data analyst, you have been tasked with scraping a specific subset of book data from Books to Scrape to assist publishing companies in understanding the landscape of highly-rated books across different genres. Your insights will help shape future book marketing strategies and publishing decisions.\n",
    "\n",
    "**Background**\n",
    "\n",
    "In a world where data has become the new currency, businesses are leveraging big data to make informed decisions that drive success and profitability. The publishing industry, much like others, utilizes data analytics to understand market trends, reader preferences, and the performance of books based on factors such as genre, author, and ratings. Books to Scrape serves as a rich source of such data, offering detailed information about a diverse range of books, making it an ideal platform for extracting insights to aid in informed decision-making within the literary world.\n",
    "\n",
    "**Task**\n",
    "\n",
    "Your task is to create a Python script using BeautifulSoup and pandas to scrape Books to Scrape book data, focusing on book ratings and genres. The script should be able to filter books with ratings above a certain threshold and in specific genres. Additionally, the script should structure the scraped data in a tabular format using pandas for further analysis.\n",
    "\n",
    "**Expected Outcome**\n",
    "\n",
    "A function named `scrape_books` that takes two parameters: `min_rating` and `max_price`. The function should scrape book data from the \"Books to Scrape\" website and return a `pandas` DataFrame with the following columns:\n",
    "\n",
    "**Expected Outcome**\n",
    "\n",
    "- A function named `scrape_books` that takes two parameters: `min_rating` and `max_price`.\n",
    "- The function should return a DataFrame with the following columns:\n",
    "  - **UPC**: The Universal Product Code (UPC) of the book.\n",
    "  - **Title**: The title of the book.\n",
    "  - **Price (£)**: The price of the book in pounds.\n",
    "  - **Rating**: The rating of the book (1-5 stars).\n",
    "  - **Genre**: The genre of the book.\n",
    "  - **Availability**: Whether the book is in stock or not.\n",
    "  - **Description**: A brief description or product description of the book (if available).\n",
    "  \n",
    "You will execute this script to scrape data for books with a minimum rating of `4.0 and above` and a maximum price of `£20`. \n",
    "\n",
    "Remember to experiment with different ratings and prices to ensure your code is versatile and can handle various searches effectively!\n",
    "\n",
    "**Resources**\n",
    "\n",
    "- [Beautiful Soup Documentation](https://www.crummy.com/software/BeautifulSoup/bs4/doc/)\n",
    "- [Pandas Documentation](https://pandas.pydata.org/pandas-docs/stable/index.html)\n",
    "- [Books to Scrape](https://books.toscrape.com/)\n"
   ]
  },
  {
   "cell_type": "markdown",
   "id": "3519921d-5890-445b-9a33-934ed8ee378c",
   "metadata": {
    "id": "3519921d-5890-445b-9a33-934ed8ee378c"
   },
   "source": [
    "**Hint**\n",
    "\n",
    "Your first mission is to familiarize yourself with the **Books to Scrape** website. Navigate to [Books to Scrape](http://books.toscrape.com/) and explore the available books to understand their layout and structure. \n",
    "\n",
    "Next, think about how you can set parameters for your data extraction:\n",
    "\n",
    "- **Minimum Rating**: Focus on books with a rating of 4.0 and above.\n",
    "- **Maximum Price**: Filter for books priced up to £20.\n",
    "\n",
    "After reviewing the site, you can construct a plan for scraping relevant data. Pay attention to the details displayed for each book, including the title, price, rating, and availability. This will help you identify the correct HTML elements to target with your scraping script.\n",
    "\n",
    "Make sure to build your scraping URL and logic based on the patterns you observe in the HTML structure of the book listings!"
   ]
  },
  {
   "cell_type": "markdown",
   "id": "25a83a0d-a742-49f6-985e-e27887cbf922",
   "metadata": {
    "id": "25a83a0d-a742-49f6-985e-e27887cbf922"
   },
   "source": [
    "\n",
    "---\n",
    "\n",
    "**Best of luck! Immerse yourself in the world of books, and may the data be with you!**"
   ]
  },
  {
   "cell_type": "markdown",
   "id": "7b75cf0d-9afa-4eec-a9e2-befeac68b2a0",
   "metadata": {
    "id": "7b75cf0d-9afa-4eec-a9e2-befeac68b2a0"
   },
   "source": [
    "**Important Note**:\n",
    "\n",
    "In the fast-changing online world, websites often update and change their structures. When you try this lab, the **Books to Scrape** website might differ from what you expect.\n",
    "\n",
    "If you encounter issues due to these changes, like new rules or obstacles preventing data extraction, don’t worry! Get creative.\n",
    "\n",
    "You can choose another website that interests you and is suitable for scraping data. Options like Wikipedia, The New York Times, or even library databases are great alternatives. The main goal remains the same: extract useful data and enhance your web scraping skills while exploring a source of information you enjoy. This is your opportunity to practice and adapt to different web environments!"
   ]
  },
  {
   "cell_type": "code",
   "execution_count": null,
   "id": "5c300bd7-baa4-4344-a9fd-94f33f3a32e4",
   "metadata": {},
   "outputs": [],
   "source": [
    "import requests\n",
    "from bs4 import BeautifulSoup\n",
    "import pandas as pd"
   ]
  },
  {
   "cell_type": "code",
   "execution_count": 92,
   "id": "197ba0cd-307c-4772-95bc-1e7a3b519c47",
   "metadata": {},
   "outputs": [],
   "source": [
    "def scrape_books(min_rating, max_price):\n",
    "    url = \"http://books.toscrape.com\"\n",
    "    response = requests.get(url)\n",
    "    soup = BeautifulSoup(response.content, \"html.parser\")\n",
    "    book_names = []\n",
    "    prices = []\n",
    "    ratings = []\n",
    "    upcs = []\n",
    "    genres = []\n",
    "    availabilities = []\n",
    "    descriptions = [] \n",
    "\n",
    "    # Find all components\n",
    "    components = soup.find_all('article', class_= \"product_pod\")\n",
    "\n",
    "    for component in components:\n",
    "        # Extract book name\n",
    "        book_name = component.find('h3').text.strip()\n",
    "        book_names.append(book_name)\n",
    "\n",
    "        # Extract price\n",
    "        book_price = component.find('p', class_= \"price_color\").text.strip().replace(\"£\", \"\")\n",
    "        prices.append(book_price)\n",
    "\n",
    "        #Extract rating\n",
    "        rating_element = component.find('p', class_=\"star-rating\")\n",
    "        rating = rating_element.get(\"class\")[1]\n",
    "        if rating == \"One\":\n",
    "            final_rating = 1\n",
    "        elif rating == \"Two\":\n",
    "            final_rating = 2\n",
    "        elif rating == \"Three\":\n",
    "            final_rating = 3\n",
    "        elif rating == \"Four\":\n",
    "            final_rating = 4\n",
    "        elif rating == \"Five\":\n",
    "            final_rating = 5\n",
    "        else:\n",
    "            final_rating = 0\n",
    "        ratings.append(final_rating)\n",
    "\n",
    "        specific_url = component.find('a')\n",
    "        href = specific_url.get(\"href\")\n",
    "        full_url = url + \"/\" + href\n",
    "    \n",
    "        #Extract UPC\n",
    "        response2 = requests.get(full_url)\n",
    "        soup2 = BeautifulSoup(response2.content, \"html.parser\")\n",
    "        upc = soup2.find(\"td\").text.strip()\n",
    "        upcs.append(upc)\n",
    "\n",
    "        #Extract genre\n",
    "        breadcrumb = soup2.find(\"ul\", class_=\"breadcrumb\")\n",
    "        if breadcrumb:\n",
    "            category_links = breadcrumb.find_all(\"a\")\n",
    "            if len(category_links) > 1:\n",
    "                category = category_links[-1].text.strip()\n",
    "            else:\n",
    "                category = \"Unknown\"\n",
    "        else:\n",
    "            category = \"Unknown\"\n",
    "        genres.append(category)\n",
    "        \n",
    "    \n",
    "        #Extract availability\n",
    "        availability_element = component.find('p', class_=\"instock availability\")\n",
    "        if availability_element:\n",
    "            first_word = availability_element.text.strip().split()[0] \n",
    "            availability = \"In stock\" if first_word == \"In\" else \"Out of stock\"\n",
    "        else:\n",
    "            availability = \"out of stock\"\n",
    "        availabilities.append(availability)\n",
    "    \n",
    "        #Extract description (if avilable)\n",
    "        description_element = soup2.find(\"div\", id=\"product_description\")\n",
    "        if description_element:\n",
    "            description = description_element.find_next(\"p\")\n",
    "        else:\n",
    "            description = \"No description available\"\n",
    "        descriptions.append(description)\n",
    "\n",
    "    # Create DataFrame\n",
    "    df = pd.DataFrame({\n",
    "        'UPC' : upcs,\n",
    "        'Book_Name': book_names,\n",
    "        'Price': prices,\n",
    "        'Rating' : ratings,\n",
    "        'Description' : descriptions,\n",
    "        'Availability' : availabilities,\n",
    "        'Genre' : genres\n",
    "    })\n",
    "    \n",
    "    df[\"Price\"] = df[\"Price\"].astype(float)\n",
    "    condition = (df[\"Rating\"]>=min_rating) & (df[\"Price\"]<=max_price)\n",
    "    return(df[condition])"
   ]
  },
  {
   "cell_type": "code",
   "execution_count": 93,
   "id": "37f2a2e7-2c5d-4689-af81-5d0d64614036",
   "metadata": {},
   "outputs": [
    {
     "name": "stdout",
     "output_type": "stream",
     "text": [
      "                 UPC    Book_Name  Price  Rating  \\\n",
      "12  ce6396b0f23f6ecc  Set Me Free  17.46       5   \n",
      "\n",
      "                                          Description Availability  \\\n",
      "12  [Aaron Ledbetter’s future had been planned out...     In stock   \n",
      "\n",
      "          Genre  \n",
      "12  Young Adult  \n"
     ]
    }
   ],
   "source": [
    "print(scrape_books(4,20))"
   ]
  },
  {
   "cell_type": "code",
   "execution_count": null,
   "id": "218d5e0c-ecac-4f27-bc19-6a675ab0c70c",
   "metadata": {},
   "outputs": [],
   "source": []
  }
 ],
 "metadata": {
  "colab": {
   "provenance": []
  },
  "kernelspec": {
   "display_name": "Python 3 (ipykernel)",
   "language": "python",
   "name": "python3"
  },
  "language_info": {
   "codemirror_mode": {
    "name": "ipython",
    "version": 3
   },
   "file_extension": ".py",
   "mimetype": "text/x-python",
   "name": "python",
   "nbconvert_exporter": "python",
   "pygments_lexer": "ipython3",
   "version": "3.9.18"
  }
 },
 "nbformat": 4,
 "nbformat_minor": 5
}
